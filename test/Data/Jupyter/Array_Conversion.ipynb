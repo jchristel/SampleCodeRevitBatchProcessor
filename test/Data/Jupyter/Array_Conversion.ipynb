{
 "cells": [
  {
   "cell_type": "markdown",
   "metadata": {},
   "source": [
    "Trying out to convert a 3d array into a flattened array for power bi consumption."
   ]
  },
  {
   "cell_type": "markdown",
   "metadata": {},
   "source": [
    "Start by setting up 2 arrays representing the view template hash tables from 2 models"
   ]
  },
  {
   "cell_type": "code",
   "execution_count": 1,
   "metadata": {},
   "outputs": [],
   "source": [
    "# Define row and column headers\n",
    "row_headers_a = [\"Cat 1\", \"Cat 2\", \"Cat 3\"]\n",
    "col_headers_a = [\"template 1\", \"template 2\", \"template 3\"]\n",
    "\n",
    "row_headers_b = [\"Cat 1\", \"Cat 3\", \"Cat 4\"]\n",
    "col_headers_b = [\"template 2\", \"template 5\", \"template 6\"]\n",
    "\n",
    "# define row and column values only\n",
    "arrays_model_a = [\n",
    "    [1, 2, 3],\n",
    "    [4, 5, 6],\n",
    "    [7, 8, 9]\n",
    "]\n",
    "\n",
    "arrays_model_b = [\n",
    "    [10, 11, 12],\n",
    "    [13, 14, 15],\n",
    "    [16, 17, 18]\n",
    "]"
   ]
  },
  {
   "cell_type": "markdown",
   "metadata": {},
   "source": [
    "combine header lists into lists of unique values"
   ]
  },
  {
   "cell_type": "code",
   "execution_count": 2,
   "metadata": {},
   "outputs": [
    {
     "name": "stdout",
     "output_type": "stream",
     "text": [
      "['Cat 1', 'Cat 2', 'Cat 3', 'Cat 4']\n",
      "['template 1', 'template 2', 'template 3', 'template 5', 'template 6']\n"
     ]
    }
   ],
   "source": [
    "\n",
    "# Convert the lists to sets to remove duplicates, then combine and convert back to a list\n",
    "merged_row_headers = sorted(list(set(row_headers_a) | set(row_headers_b)))\n",
    "print(merged_row_headers)\n",
    "merged_col_headers = sorted(list(set(col_headers_a) | set(col_headers_b)))\n",
    "print (merged_col_headers)\n",
    "\n"
   ]
  },
  {
   "cell_type": "markdown",
   "metadata": {},
   "source": [
    "build an array of the final size and use as a default cell value -1"
   ]
  },
  {
   "cell_type": "code",
   "execution_count": 3,
   "metadata": {},
   "outputs": [
    {
     "name": "stdout",
     "output_type": "stream",
     "text": [
      "[-1, -1, -1, -1, -1]\n",
      "[-1, -1, -1, -1, -1]\n",
      "[-1, -1, -1, -1, -1]\n",
      "[-1, -1, -1, -1, -1]\n",
      "\n",
      "\n",
      "[-1, -1, -1, -1, -1]\n",
      "[-1, -1, -1, -1, -1]\n",
      "[-1, -1, -1, -1, -1]\n",
      "[-1, -1, -1, -1, -1]\n"
     ]
    }
   ],
   "source": [
    "def get_padded_default_array(\n",
    "    merged_row_headers,\n",
    "    merged_column_headers,\n",
    "):\n",
    "\n",
    "    # Create a new padded 2D array\n",
    "    padded_array_model_a = [\n",
    "        [-1 for _ in merged_column_headers] for _ in merged_row_headers\n",
    "    ]\n",
    "    return padded_array_model_a\n",
    "\n",
    "# Find the indices for row and column headers in the merged headers\n",
    "row_indices = [merged_row_headers.index(row) for row in row_headers_a]\n",
    "col_indices = [merged_col_headers.index(col) for col in col_headers_a]\n",
    "\n",
    "padded_array_model_a = get_padded_default_array(\n",
    "    merged_row_headers=merged_row_headers,\n",
    "    merged_column_headers=merged_col_headers,\n",
    ")\n",
    "\n",
    "padded_array_model_b = list(padded_array_model_a)\n",
    "\n",
    "# Print the padded array\n",
    "for row in padded_array_model_a:\n",
    "    print(row)\n",
    "\n",
    "print('\\n')\n",
    "for row in padded_array_model_b:\n",
    "    print(row)\n"
   ]
  },
  {
   "cell_type": "markdown",
   "metadata": {},
   "source": [
    "update cell values based on the original array"
   ]
  },
  {
   "cell_type": "code",
   "execution_count": 4,
   "metadata": {},
   "outputs": [
    {
     "name": "stdout",
     "output_type": "stream",
     "text": [
      "[1, 2, 3, -1, -1]\n",
      "[4, 5, 6, -1, -1]\n",
      "[7, 8, 9, -1, -1]\n",
      "[-1, -1, -1, -1, -1]\n",
      "\n",
      "\n",
      "[10, 11, 12, -1, -1]\n",
      "[13, 14, 15, -1, -1]\n",
      "[16, 17, 18, -1, -1]\n",
      "[-1, -1, -1, -1, -1]\n",
      "\n",
      "\n",
      "[10, 11, 12, -1, -1]\n",
      "[13, 14, 15, -1, -1]\n",
      "[16, 17, 18, -1, -1]\n",
      "[-1, -1, -1, -1, -1]\n"
     ]
    }
   ],
   "source": [
    "def update_default_array_values(row_indices, col_indices, default_array, value_array):\n",
    "    # Fill in the values from array_model_a\n",
    "    for i, row_index in enumerate(row_indices):\n",
    "        for j, col_index in enumerate(col_indices):\n",
    "            default_array[row_index][col_index] = value_array[i][j]\n",
    "    return default_array\n",
    "\n",
    "\n",
    "updated_array_model_a = update_default_array_values(\n",
    "    row_indices=row_indices,\n",
    "    col_indices=col_indices,\n",
    "    default_array=padded_array_model_a,\n",
    "    value_array=arrays_model_a,\n",
    ")\n",
    "\n",
    "# Print the padded array\n",
    "for row in padded_array_model_a:\n",
    "    print(row)\n",
    "print(\"\\n\")\n",
    "\n",
    "updated_array_model_b = update_default_array_values(\n",
    "    row_indices=row_indices,\n",
    "    col_indices=col_indices,\n",
    "    default_array=padded_array_model_b,\n",
    "    value_array=arrays_model_b,\n",
    ")\n",
    "# Print the padded array\n",
    "for row in padded_array_model_a:\n",
    "    print(row)\n",
    "\n",
    "print(\"\\n\")\n",
    "# Print the padded array\n",
    "for row in padded_array_model_b:\n",
    "    print(row)"
   ]
  },
  {
   "cell_type": "markdown",
   "metadata": {},
   "source": [
    "combine into a 3D array"
   ]
  },
  {
   "cell_type": "code",
   "execution_count": 5,
   "metadata": {},
   "outputs": [],
   "source": [
    "# Your 3D array\n",
    "array_3d = [\n",
    "    [arrays_model_a, arrays_model_b]\n",
    "]"
   ]
  },
  {
   "cell_type": "code",
   "execution_count": 6,
   "metadata": {},
   "outputs": [],
   "source": [
    "model_dic ={\n",
    "    0: \"model_a\",\n",
    "    1: \"model_b\",\n",
    "    2: \"model_c\"\n",
    "}"
   ]
  },
  {
   "cell_type": "code",
   "execution_count": 7,
   "metadata": {},
   "outputs": [],
   "source": [
    "category_dic= {\n",
    "    0: \"cat_a\",\n",
    "    1: \"cat_b\",\n",
    "    2: \"cat_c\"\n",
    "}"
   ]
  },
  {
   "cell_type": "code",
   "execution_count": 8,
   "metadata": {},
   "outputs": [],
   "source": [
    "view_template_dic= {\n",
    "    0: \"template_a\",\n",
    "    1: \"template_b\",\n",
    "    2: \"template_c\"\n",
    "}"
   ]
  },
  {
   "cell_type": "code",
   "execution_count": 9,
   "metadata": {},
   "outputs": [],
   "source": [
    "# Flatten the 3D array and create a DataFrame\n",
    "flattened_data = []"
   ]
  },
  {
   "cell_type": "code",
   "execution_count": 10,
   "metadata": {},
   "outputs": [],
   "source": [
    "for model_name, layer in enumerate(array_3d):\n",
    "    for category, row in enumerate(layer):\n",
    "        for view_template, hash_value in enumerate(row):\n",
    "            flattened_data.append(\n",
    "                {\n",
    "                    \"view_template\": view_template_dic[view_template],\n",
    "                    \"category\": category_dic[category],\n",
    "                    \"model_name\": model_dic[model_name],\n",
    "                    \"hash_value\": hash_value,\n",
    "                }\n",
    "            )"
   ]
  },
  {
   "cell_type": "code",
   "execution_count": 11,
   "metadata": {},
   "outputs": [
    {
     "name": "stdout",
     "output_type": "stream",
     "text": [
      "[{'view_template': 'template_a', 'category': 'cat_a', 'model_name': 'model_a', 'hash_value': [1, 2, 3]}, {'view_template': 'template_b', 'category': 'cat_a', 'model_name': 'model_a', 'hash_value': [4, 5, 6]}, {'view_template': 'template_c', 'category': 'cat_a', 'model_name': 'model_a', 'hash_value': [7, 8, 9]}, {'view_template': 'template_a', 'category': 'cat_b', 'model_name': 'model_a', 'hash_value': [10, 11, 12]}, {'view_template': 'template_b', 'category': 'cat_b', 'model_name': 'model_a', 'hash_value': [13, 14, 15]}, {'view_template': 'template_c', 'category': 'cat_b', 'model_name': 'model_a', 'hash_value': [16, 17, 18]}]\n"
     ]
    }
   ],
   "source": [
    "print(flattened_data)"
   ]
  }
 ],
 "metadata": {
  "kernelspec": {
   "display_name": "Python 3",
   "language": "python",
   "name": "python3"
  },
  "language_info": {
   "codemirror_mode": {
    "name": "ipython",
    "version": 3
   },
   "file_extension": ".py",
   "mimetype": "text/x-python",
   "name": "python",
   "nbconvert_exporter": "python",
   "pygments_lexer": "ipython3",
   "version": "3.11.3"
  },
  "orig_nbformat": 4
 },
 "nbformat": 4,
 "nbformat_minor": 2
}

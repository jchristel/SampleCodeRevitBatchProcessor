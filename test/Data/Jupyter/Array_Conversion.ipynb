{
 "cells": [
  {
   "cell_type": "markdown",
   "metadata": {},
   "source": [
    "Trying out to convert a 3d array into a flattened array for power bi consumption"
   ]
  },
  {
   "cell_type": "code",
   "execution_count": 29,
   "metadata": {},
   "outputs": [],
   "source": [
    "# Your 3D array\n",
    "array_3d = [\n",
    "    [\n",
    "        [1, 2, 3],\n",
    "        [4, 5, 6]\n",
    "    ],\n",
    "    [\n",
    "        [7, 8, 9],\n",
    "        [10, 11, 12]\n",
    "    ]\n",
    "]"
   ]
  },
  {
   "cell_type": "markdown",
   "metadata": {},
   "source": [
    "sample array"
   ]
  },
  {
   "cell_type": "code",
   "execution_count": 30,
   "metadata": {},
   "outputs": [],
   "source": [
    "model_dic ={\n",
    "    0: \"model_a\",\n",
    "    1: \"model_b\",\n",
    "    2: \"model_c\"\n",
    "}"
   ]
  },
  {
   "cell_type": "code",
   "execution_count": 31,
   "metadata": {},
   "outputs": [],
   "source": [
    "category_dic= {\n",
    "    0: \"cat_a\",\n",
    "    1: \"cat_b\",\n",
    "    2: \"cat_c\"\n",
    "}"
   ]
  },
  {
   "cell_type": "code",
   "execution_count": 32,
   "metadata": {},
   "outputs": [],
   "source": [
    "view_template_dic= {\n",
    "    0: \"template_a\",\n",
    "    1: \"template_b\",\n",
    "    2: \"template_c\"\n",
    "}"
   ]
  },
  {
   "cell_type": "code",
   "execution_count": 33,
   "metadata": {},
   "outputs": [],
   "source": [
    "# Flatten the 3D array and create a DataFrame\n",
    "flattened_data = []"
   ]
  },
  {
   "cell_type": "code",
   "execution_count": 34,
   "metadata": {},
   "outputs": [],
   "source": [
    "for model_name, layer in enumerate(array_3d):\n",
    "    for category, row in enumerate(layer):\n",
    "        for view_template, hash_value in enumerate(row):\n",
    "            flattened_data.append(\n",
    "                {\n",
    "                    \"view_template\": view_template_dic[view_template],\n",
    "                    \"category\": category_dic[category],\n",
    "                    \"model_name\": model_dic[model_name],\n",
    "                    \"hash_value\": hash_value,\n",
    "                }\n",
    "            )"
   ]
  },
  {
   "cell_type": "code",
   "execution_count": 35,
   "metadata": {},
   "outputs": [
    {
     "name": "stdout",
     "output_type": "stream",
     "text": [
      "[{'view_template': 'template_a', 'category': 'cat_a', 'model_name': 'model_a', 'hash_value': 1}, {'view_template': 'template_b', 'category': 'cat_a', 'model_name': 'model_a', 'hash_value': 2}, {'view_template': 'template_c', 'category': 'cat_a', 'model_name': 'model_a', 'hash_value': 3}, {'view_template': 'template_a', 'category': 'cat_b', 'model_name': 'model_a', 'hash_value': 4}, {'view_template': 'template_b', 'category': 'cat_b', 'model_name': 'model_a', 'hash_value': 5}, {'view_template': 'template_c', 'category': 'cat_b', 'model_name': 'model_a', 'hash_value': 6}, {'view_template': 'template_a', 'category': 'cat_a', 'model_name': 'model_b', 'hash_value': 7}, {'view_template': 'template_b', 'category': 'cat_a', 'model_name': 'model_b', 'hash_value': 8}, {'view_template': 'template_c', 'category': 'cat_a', 'model_name': 'model_b', 'hash_value': 9}, {'view_template': 'template_a', 'category': 'cat_b', 'model_name': 'model_b', 'hash_value': 10}, {'view_template': 'template_b', 'category': 'cat_b', 'model_name': 'model_b', 'hash_value': 11}, {'view_template': 'template_c', 'category': 'cat_b', 'model_name': 'model_b', 'hash_value': 12}]\n"
     ]
    }
   ],
   "source": [
    "print(flattened_data)"
   ]
  }
 ],
 "metadata": {
  "kernelspec": {
   "display_name": "Python 3",
   "language": "python",
   "name": "python3"
  },
  "language_info": {
   "codemirror_mode": {
    "name": "ipython",
    "version": 3
   },
   "file_extension": ".py",
   "mimetype": "text/x-python",
   "name": "python",
   "nbconvert_exporter": "python",
   "pygments_lexer": "ipython3",
   "version": "3.10.4"
  },
  "orig_nbformat": 4
 },
 "nbformat": 4,
 "nbformat_minor": 2
}

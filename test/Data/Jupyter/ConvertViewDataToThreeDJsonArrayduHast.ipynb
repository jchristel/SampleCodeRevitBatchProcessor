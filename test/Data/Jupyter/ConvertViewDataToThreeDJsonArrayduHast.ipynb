{
 "cells": [
  {
   "cell_type": "code",
   "execution_count": 1,
   "metadata": {},
   "outputs": [],
   "source": [
    "import sys\n",
    "\n",
    "duhast_path = r\"C:\\Users\\janchristel\\Documents\\GitHub\\SampleCodeRevitBatchProcessor\\src\"\n",
    "sys.path += [duhast_path]"
   ]
  },
  {
   "cell_type": "code",
   "execution_count": 2,
   "metadata": {},
   "outputs": [
    {
     "name": "stdout",
     "output_type": "stream",
     "text": [
      "Outcome: True\n",
      "Found 2 files: ['C:\\\\Users\\\\janchristel\\\\Documents\\\\GitHub\\\\SampleCodeRevitBatchProcessor\\\\test\\\\Data\\\\Jupyter\\\\FILE_ONE_VT_Overrides.csv', 'C:\\\\Users\\\\janchristel\\\\Documents\\\\GitHub\\\\SampleCodeRevitBatchProcessor\\\\test\\\\Data\\\\Jupyter\\\\FILE_TWO_VT_Overrides.csv']\n",
      "Loaded json data from 2 files.\n",
      "FILE_ONE_VT_Overrides: number of merged column headers: 15 and merged row headers: 1352\n",
      "FILE_TWO_VT_Overrides: number of merged column headers: 15 and merged row headers: 1352\n",
      "FILE_ONE_VT_Overrides: Created padded default value array of size 1352 by 15\n",
      "FILE_TWO_VT_Overrides: Created padded default value array of size 1352 by 15\n",
      "FILE_ONE_VT_Overrides: Created row: 1094 and column: 9 indices mapper.\n",
      "FILE_TWO_VT_Overrides: Created row: 1215 and column: 6 indices mapper.\n",
      "FILE_ONE_VT_Overrides: Updated padded default value array with values of size 1352 by 15\n",
      "FILE_TWO_VT_Overrides: Updated padded default value array with values of size 1352 by 15\n",
      "Built 3D array of size: number of files: 2 by number of categories: 1352 by number of view templates: 15\n",
      "Flattened array: 40560\n",
      "Number of entries: 1\n"
     ]
    }
   ],
   "source": [
    "\n",
    "from duHast.Revit.Views.Reporting.views_data_3d_hash_report import convert_vt_data_to_3d_flattened\n",
    "\n",
    "\n",
    "JSON_DIRECTORY = r\"C:\\Users\\janchristel\\Documents\\GitHub\\SampleCodeRevitBatchProcessor\\test\\Data\\Jupyter\"\n",
    "\n",
    "result_conversion = convert_vt_data_to_3d_flattened(directory_path=JSON_DIRECTORY)\n",
    "\n",
    "print(\"Outcome: {}\\n{}\\nNumber of entries: {}\".format(result_conversion.status, result_conversion.message, len(result_conversion.result)))"
   ]
  }
 ],
 "metadata": {
  "kernelspec": {
   "display_name": "Python 3",
   "language": "python",
   "name": "python3"
  },
  "language_info": {
   "codemirror_mode": {
    "name": "ipython",
    "version": 3
   },
   "file_extension": ".py",
   "mimetype": "text/x-python",
   "name": "python",
   "nbconvert_exporter": "python",
   "pygments_lexer": "ipython3",
   "version": "3.10.1"
  },
  "orig_nbformat": 4
 },
 "nbformat": 4,
 "nbformat_minor": 2
}

{
 "cells": [
  {
   "cell_type": "markdown",
   "metadata": {},
   "source": [
    "Trying out to convert a 3d array into a flattened array for power bi consumption."
   ]
  },
  {
   "cell_type": "markdown",
   "metadata": {},
   "source": [
    "Start by setting up 2 arrays representing the view template hash tables from 2 models"
   ]
  },
  {
   "cell_type": "code",
   "execution_count": 17,
   "metadata": {},
   "outputs": [],
   "source": [
    "# Define row and column headers\n",
    "row_headers_a = [\"Cat 1\", \"Cat 2\", \"Cat 3\"]\n",
    "col_headers_a = [\"template 1\", \"template 2\", \"template 3\"]\n",
    "\n",
    "row_headers_b = [\"Cat 1\", \"Cat 3\", \"Cat 4\"]\n",
    "col_headers_b = [\"template 2\", \"template 5\", \"template 6\"]\n",
    "\n",
    "# define row and column values only\n",
    "arrays_model_a = [\n",
    "    [1, 2, 3],\n",
    "    [4, 5, 6],\n",
    "    [7, 8, 9]\n",
    "]\n",
    "\n",
    "arrays_model_b = [\n",
    "    [10, 11, 12],\n",
    "    [13, 14, 15],\n",
    "    [16, 17, 18]\n",
    "]"
   ]
  },
  {
   "cell_type": "code",
   "execution_count": 18,
   "metadata": {},
   "outputs": [
    {
     "name": "stdout",
     "output_type": "stream",
     "text": [
      "['Cat 1', 'Cat 2', 'Cat 3', 'Cat 4']\n",
      "['template 1', 'template 2', 'template 3', 'template 5', 'template 6']\n"
     ]
    }
   ],
   "source": [
    "\n",
    "# Convert the lists to sets to remove duplicates, then combine and convert back to a list\n",
    "merged_row_headers = sorted(list(set(row_headers_a) | set(row_headers_b)))\n",
    "print(merged_row_headers)\n",
    "merged_col_headers = sorted(list(set(col_headers_a) | set(col_headers_b)))\n",
    "print (merged_col_headers)\n",
    "\n"
   ]
  },
  {
   "cell_type": "markdown",
   "metadata": {},
   "source": [
    "combine into a 3D array"
   ]
  },
  {
   "cell_type": "code",
   "execution_count": 19,
   "metadata": {},
   "outputs": [],
   "source": [
    "# Your 3D array\n",
    "array_3d = [\n",
    "    [arrays_model_a, arrays_model_b]\n",
    "]"
   ]
  },
  {
   "cell_type": "code",
   "execution_count": 20,
   "metadata": {},
   "outputs": [],
   "source": [
    "model_dic ={\n",
    "    0: \"model_a\",\n",
    "    1: \"model_b\",\n",
    "    2: \"model_c\"\n",
    "}"
   ]
  },
  {
   "cell_type": "code",
   "execution_count": 21,
   "metadata": {},
   "outputs": [],
   "source": [
    "category_dic= {\n",
    "    0: \"cat_a\",\n",
    "    1: \"cat_b\",\n",
    "    2: \"cat_c\"\n",
    "}"
   ]
  },
  {
   "cell_type": "code",
   "execution_count": 22,
   "metadata": {},
   "outputs": [],
   "source": [
    "view_template_dic= {\n",
    "    0: \"template_a\",\n",
    "    1: \"template_b\",\n",
    "    2: \"template_c\"\n",
    "}"
   ]
  },
  {
   "cell_type": "code",
   "execution_count": 23,
   "metadata": {},
   "outputs": [],
   "source": [
    "# Flatten the 3D array and create a DataFrame\n",
    "flattened_data = []"
   ]
  },
  {
   "cell_type": "code",
   "execution_count": 24,
   "metadata": {},
   "outputs": [],
   "source": [
    "for model_name, layer in enumerate(array_3d):\n",
    "    for category, row in enumerate(layer):\n",
    "        for view_template, hash_value in enumerate(row):\n",
    "            flattened_data.append(\n",
    "                {\n",
    "                    \"view_template\": view_template_dic[view_template],\n",
    "                    \"category\": category_dic[category],\n",
    "                    \"model_name\": model_dic[model_name],\n",
    "                    \"hash_value\": hash_value,\n",
    "                }\n",
    "            )"
   ]
  },
  {
   "cell_type": "code",
   "execution_count": 25,
   "metadata": {},
   "outputs": [
    {
     "name": "stdout",
     "output_type": "stream",
     "text": [
      "[{'view_template': 'template_a', 'category': 'cat_a', 'model_name': 'model_a', 'hash_value': [1, 2, 3]}, {'view_template': 'template_b', 'category': 'cat_a', 'model_name': 'model_a', 'hash_value': [4, 5, 6]}, {'view_template': 'template_c', 'category': 'cat_a', 'model_name': 'model_a', 'hash_value': [7, 8, 9]}, {'view_template': 'template_a', 'category': 'cat_b', 'model_name': 'model_a', 'hash_value': [10, 11, 12]}, {'view_template': 'template_b', 'category': 'cat_b', 'model_name': 'model_a', 'hash_value': [13, 14, 15]}, {'view_template': 'template_c', 'category': 'cat_b', 'model_name': 'model_a', 'hash_value': [16, 17, 18]}]\n"
     ]
    }
   ],
   "source": [
    "print(flattened_data)"
   ]
  }
 ],
 "metadata": {
  "kernelspec": {
   "display_name": "Python 3",
   "language": "python",
   "name": "python3"
  },
  "language_info": {
   "codemirror_mode": {
    "name": "ipython",
    "version": 3
   },
   "file_extension": ".py",
   "mimetype": "text/x-python",
   "name": "python",
   "nbconvert_exporter": "python",
   "pygments_lexer": "ipython3",
   "version": "3.10.4"
  },
  "orig_nbformat": 4
 },
 "nbformat": 4,
 "nbformat_minor": 2
}

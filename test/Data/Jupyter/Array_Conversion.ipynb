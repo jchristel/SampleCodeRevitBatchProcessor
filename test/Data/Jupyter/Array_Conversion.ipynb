{
 "cells": [
  {
   "cell_type": "markdown",
   "metadata": {},
   "source": [
    "Trying out to convert a 3d array into a flattened array for power bi consumption."
   ]
  },
  {
   "cell_type": "markdown",
   "metadata": {},
   "source": [
    "Start by setting up 2 arrays representing the view template hash tables from 2 models"
   ]
  },
  {
   "cell_type": "code",
   "execution_count": 1,
   "metadata": {},
   "outputs": [],
   "source": [
    "MODEL_NAMES = [\"model a\", \"model b\"]\n",
    "# Define row and column headers\n",
    "ROW_HEADERS_A = [\"Cat 1\", \"Cat 2\", \"Cat 3\"]\n",
    "COLUMN_HEADERS_A = [\"template 1\", \"template 2\", \"template 3\"]\n",
    "\n",
    "ROW_HEADERS_B = [\"Cat 1\", \"Cat 3\", \"Cat 4\"]\n",
    "COLUMN_HEADERS_B = [\"template 2\", \"template 5\", \"template 6\"]\n",
    "\n",
    "# define row and column values only\n",
    "ARRAY_MODEL_A = [\n",
    "    [1, 2, 3],\n",
    "    [4, 5, 6],\n",
    "    [7, 8, 9]\n",
    "]\n",
    "\n",
    "ARRAY_MODEL_B = [\n",
    "    [10, 11, 12],\n",
    "    [13, 14, 15],\n",
    "    [16, 17, 18]\n",
    "]"
   ]
  },
  {
   "cell_type": "markdown",
   "metadata": {},
   "source": [
    "combine header lists into lists of unique values"
   ]
  },
  {
   "cell_type": "code",
   "execution_count": 2,
   "metadata": {},
   "outputs": [
    {
     "name": "stdout",
     "output_type": "stream",
     "text": [
      "['Cat 1', 'Cat 2', 'Cat 3', 'Cat 4']\n",
      "['template 1', 'template 2', 'template 3', 'template 5', 'template 6']\n"
     ]
    }
   ],
   "source": [
    "\n",
    "# Convert the lists to sets to remove duplicates, then combine and convert back to a list\n",
    "MERGED_ROW_HEADERS = sorted(list(set(ROW_HEADERS_A) | set(ROW_HEADERS_B)))\n",
    "print(MERGED_ROW_HEADERS)\n",
    "MERGED_COLUMN_HEADERS = sorted(list(set(COLUMN_HEADERS_A) | set(COLUMN_HEADERS_B)))\n",
    "print (MERGED_COLUMN_HEADERS)\n",
    "\n"
   ]
  },
  {
   "cell_type": "markdown",
   "metadata": {},
   "source": [
    "build an array of the final size and use as a default cell value -1"
   ]
  },
  {
   "cell_type": "code",
   "execution_count": 3,
   "metadata": {},
   "outputs": [
    {
     "name": "stdout",
     "output_type": "stream",
     "text": [
      "[-1, -1, -1, -1, -1]\n",
      "[-1, -1, -1, -1, -1]\n",
      "[-1, -1, -1, -1, -1]\n",
      "[-1, -1, -1, -1, -1]\n",
      "\n",
      "\n",
      "[-1, -1, -1, -1, -1]\n",
      "[-1, -1, -1, -1, -1]\n",
      "[-1, -1, -1, -1, -1]\n",
      "[-1, -1, -1, -1, -1]\n"
     ]
    }
   ],
   "source": [
    "def get_padded_default_array(\n",
    "    merged_row_headers,\n",
    "    merged_column_headers,\n",
    "):\n",
    "\n",
    "    # Create a new padded 2D array\n",
    "    padded_array_model_a = [\n",
    "        [-1 for _ in merged_column_headers] for _ in merged_row_headers\n",
    "    ]\n",
    "    return padded_array_model_a\n",
    "\n",
    "# Find the indices for row and column headers in the merged headers\n",
    "ROW_INDICES_A = [MERGED_ROW_HEADERS.index(row) for row in ROW_HEADERS_A]\n",
    "COLUMN_INDICES_A = [MERGED_COLUMN_HEADERS.index(col) for col in COLUMN_HEADERS_A]\n",
    "\n",
    "ROW_INDICES_B = [MERGED_ROW_HEADERS.index(row) for row in ROW_HEADERS_B]\n",
    "COLUMN_INDICES_B = [MERGED_COLUMN_HEADERS.index(col) for col in COLUMN_HEADERS_B]\n",
    "\n",
    "PADDED_ARRAY_MODEL_A = get_padded_default_array(\n",
    "    merged_row_headers=MERGED_ROW_HEADERS,\n",
    "    merged_column_headers=MERGED_COLUMN_HEADERS,\n",
    ")\n",
    "\n",
    "#PADDED_ARRAY_MODEL_B = PADDED_ARRAY_MODEL_A[:]\n",
    "\n",
    "PADDED_ARRAY_MODEL_B = get_padded_default_array(\n",
    "    merged_row_headers=MERGED_ROW_HEADERS,\n",
    "    merged_column_headers=MERGED_COLUMN_HEADERS,\n",
    ")\n",
    "\n",
    "# Print the padded array\n",
    "for row in PADDED_ARRAY_MODEL_A:\n",
    "    print(row)\n",
    "\n",
    "print('\\n')\n",
    "for row in PADDED_ARRAY_MODEL_B:\n",
    "    print(row)\n"
   ]
  },
  {
   "cell_type": "markdown",
   "metadata": {},
   "source": [
    "update cell values based on the original array"
   ]
  },
  {
   "cell_type": "code",
   "execution_count": 4,
   "metadata": {},
   "outputs": [
    {
     "name": "stdout",
     "output_type": "stream",
     "text": [
      "A\n",
      "\n",
      "[1, 2, 3, -1, -1]\n",
      "[4, 5, 6, -1, -1]\n",
      "[7, 8, 9, -1, -1]\n",
      "[-1, -1, -1, -1, -1]\n",
      "\n",
      "B\n",
      "\n",
      "[-1, 10, -1, 11, 12]\n",
      "[-1, -1, -1, -1, -1]\n",
      "[-1, 13, -1, 14, 15]\n",
      "[-1, 16, -1, 17, 18]\n"
     ]
    }
   ],
   "source": [
    "def update_default_array_values(row_indices, col_indices, default_array, value_array):\n",
    "    # Fill in the values from array_model_a\n",
    "    for i, row_index in enumerate(row_indices):\n",
    "        for j, col_index in enumerate(col_indices):\n",
    "            default_array[row_index][col_index] = value_array[i][j]\n",
    "    return default_array\n",
    "\n",
    "\n",
    "updated_array_model_a = update_default_array_values(\n",
    "    row_indices=ROW_INDICES_A,\n",
    "    col_indices=COLUMN_INDICES_A,\n",
    "    default_array=PADDED_ARRAY_MODEL_A,\n",
    "    value_array=ARRAY_MODEL_A,\n",
    ")\n",
    "\n",
    "# Print the padded array\n",
    "'''\n",
    "for row in PADDED_ARRAY_MODEL_A:\n",
    "    print(row)\n",
    "print(\"\\n\")\n",
    "'''\n",
    "\n",
    "updated_array_model_b = update_default_array_values(\n",
    "    row_indices=ROW_INDICES_B,\n",
    "    col_indices=COLUMN_INDICES_B,\n",
    "    default_array=PADDED_ARRAY_MODEL_B,\n",
    "    value_array=ARRAY_MODEL_B,\n",
    ")\n",
    "# Print the padded array\n",
    "print(\"A\\n\")\n",
    "for row in PADDED_ARRAY_MODEL_A:\n",
    "    print(row)\n",
    "\n",
    "print(\"\\nB\\n\")\n",
    "# Print the padded array\n",
    "for row in PADDED_ARRAY_MODEL_B:\n",
    "    print(row)"
   ]
  },
  {
   "cell_type": "markdown",
   "metadata": {},
   "source": [
    "combine into a 3D array"
   ]
  },
  {
   "cell_type": "code",
   "execution_count": 5,
   "metadata": {},
   "outputs": [
    {
     "name": "stdout",
     "output_type": "stream",
     "text": [
      "[[[1, 2, 3, -1, -1], [4, 5, 6, -1, -1], [7, 8, 9, -1, -1], [-1, -1, -1, -1, -1]], [[-1, 10, -1, 11, 12], [-1, -1, -1, -1, -1], [-1, 13, -1, 14, 15], [-1, 16, -1, 17, 18]]]\n"
     ]
    }
   ],
   "source": [
    "# Your 3D array\n",
    "array_3d = [\n",
    "        PADDED_ARRAY_MODEL_A,\n",
    "        PADDED_ARRAY_MODEL_B\n",
    "]\n",
    "print(array_3d)"
   ]
  },
  {
   "cell_type": "code",
   "execution_count": 6,
   "metadata": {},
   "outputs": [],
   "source": [
    "flattened_data=[]\n",
    "for model_name, layer in enumerate(array_3d):\n",
    "    for category, row in enumerate(layer):\n",
    "        for view_template, hash_value in enumerate(row):\n",
    "            flattened_data.append(\n",
    "                {\n",
    "                    \"view_template\": MERGED_COLUMN_HEADERS[view_template],\n",
    "                    \"category\": MERGED_ROW_HEADERS[category],\n",
    "                    \"model_name\": MODEL_NAMES[model_name],\n",
    "                    \"hash_value\": hash_value,\n",
    "                }\n",
    "            )"
   ]
  },
  {
   "cell_type": "code",
   "execution_count": 7,
   "metadata": {},
   "outputs": [
    {
     "name": "stdout",
     "output_type": "stream",
     "text": [
      "[{'view_template': 'template 1', 'category': 'Cat 1', 'model_name': 'model a', 'hash_value': 1}, {'view_template': 'template 2', 'category': 'Cat 1', 'model_name': 'model a', 'hash_value': 2}, {'view_template': 'template 3', 'category': 'Cat 1', 'model_name': 'model a', 'hash_value': 3}, {'view_template': 'template 5', 'category': 'Cat 1', 'model_name': 'model a', 'hash_value': -1}, {'view_template': 'template 6', 'category': 'Cat 1', 'model_name': 'model a', 'hash_value': -1}, {'view_template': 'template 1', 'category': 'Cat 2', 'model_name': 'model a', 'hash_value': 4}, {'view_template': 'template 2', 'category': 'Cat 2', 'model_name': 'model a', 'hash_value': 5}, {'view_template': 'template 3', 'category': 'Cat 2', 'model_name': 'model a', 'hash_value': 6}, {'view_template': 'template 5', 'category': 'Cat 2', 'model_name': 'model a', 'hash_value': -1}, {'view_template': 'template 6', 'category': 'Cat 2', 'model_name': 'model a', 'hash_value': -1}, {'view_template': 'template 1', 'category': 'Cat 3', 'model_name': 'model a', 'hash_value': 7}, {'view_template': 'template 2', 'category': 'Cat 3', 'model_name': 'model a', 'hash_value': 8}, {'view_template': 'template 3', 'category': 'Cat 3', 'model_name': 'model a', 'hash_value': 9}, {'view_template': 'template 5', 'category': 'Cat 3', 'model_name': 'model a', 'hash_value': -1}, {'view_template': 'template 6', 'category': 'Cat 3', 'model_name': 'model a', 'hash_value': -1}, {'view_template': 'template 1', 'category': 'Cat 4', 'model_name': 'model a', 'hash_value': -1}, {'view_template': 'template 2', 'category': 'Cat 4', 'model_name': 'model a', 'hash_value': -1}, {'view_template': 'template 3', 'category': 'Cat 4', 'model_name': 'model a', 'hash_value': -1}, {'view_template': 'template 5', 'category': 'Cat 4', 'model_name': 'model a', 'hash_value': -1}, {'view_template': 'template 6', 'category': 'Cat 4', 'model_name': 'model a', 'hash_value': -1}, {'view_template': 'template 1', 'category': 'Cat 1', 'model_name': 'model b', 'hash_value': -1}, {'view_template': 'template 2', 'category': 'Cat 1', 'model_name': 'model b', 'hash_value': 10}, {'view_template': 'template 3', 'category': 'Cat 1', 'model_name': 'model b', 'hash_value': -1}, {'view_template': 'template 5', 'category': 'Cat 1', 'model_name': 'model b', 'hash_value': 11}, {'view_template': 'template 6', 'category': 'Cat 1', 'model_name': 'model b', 'hash_value': 12}, {'view_template': 'template 1', 'category': 'Cat 2', 'model_name': 'model b', 'hash_value': -1}, {'view_template': 'template 2', 'category': 'Cat 2', 'model_name': 'model b', 'hash_value': -1}, {'view_template': 'template 3', 'category': 'Cat 2', 'model_name': 'model b', 'hash_value': -1}, {'view_template': 'template 5', 'category': 'Cat 2', 'model_name': 'model b', 'hash_value': -1}, {'view_template': 'template 6', 'category': 'Cat 2', 'model_name': 'model b', 'hash_value': -1}, {'view_template': 'template 1', 'category': 'Cat 3', 'model_name': 'model b', 'hash_value': -1}, {'view_template': 'template 2', 'category': 'Cat 3', 'model_name': 'model b', 'hash_value': 13}, {'view_template': 'template 3', 'category': 'Cat 3', 'model_name': 'model b', 'hash_value': -1}, {'view_template': 'template 5', 'category': 'Cat 3', 'model_name': 'model b', 'hash_value': 14}, {'view_template': 'template 6', 'category': 'Cat 3', 'model_name': 'model b', 'hash_value': 15}, {'view_template': 'template 1', 'category': 'Cat 4', 'model_name': 'model b', 'hash_value': -1}, {'view_template': 'template 2', 'category': 'Cat 4', 'model_name': 'model b', 'hash_value': 16}, {'view_template': 'template 3', 'category': 'Cat 4', 'model_name': 'model b', 'hash_value': -1}, {'view_template': 'template 5', 'category': 'Cat 4', 'model_name': 'model b', 'hash_value': 17}, {'view_template': 'template 6', 'category': 'Cat 4', 'model_name': 'model b', 'hash_value': 18}]\n"
     ]
    }
   ],
   "source": [
    "print(flattened_data)"
   ]
  }
 ],
 "metadata": {
  "kernelspec": {
   "display_name": "Python 3",
   "language": "python",
   "name": "python3"
  },
  "language_info": {
   "codemirror_mode": {
    "name": "ipython",
    "version": 3
   },
   "file_extension": ".py",
   "mimetype": "text/x-python",
   "name": "python",
   "nbconvert_exporter": "python",
   "pygments_lexer": "ipython3",
   "version": "3.10.4"
  },
  "orig_nbformat": 4
 },
 "nbformat": 4,
 "nbformat_minor": 2
}
